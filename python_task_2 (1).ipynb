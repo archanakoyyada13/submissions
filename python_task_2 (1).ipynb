{
 "cells": [
  {
   "cell_type": "code",
   "execution_count": 1,
   "id": "fa9afa69",
   "metadata": {},
   "outputs": [],
   "source": [
    "import pandas as pd\n",
    "import numpy as np\n",
    "\n",
    "df = pd.read_csv('Downloads/dataset-3.csv')\n",
    "# Reset the index and move 'id_start' to a regular column\n",
    "df.reset_index(inplace=True)"
   ]
  },
  {
   "cell_type": "code",
   "execution_count": 2,
   "id": "39e34c30",
   "metadata": {},
   "outputs": [],
   "source": [
    "# Question 1: Distance Matrix Calculation\n",
    "def calculate_distance_matrix(df):\n",
    "    pivot_df = df.pivot_table(values='distance', index='id_start', columns='id_end', fill_value=0)\n",
    "    distance_matrix = pivot_df + pivot_df.T\n",
    "    return distance_matrix"
   ]
  },
  {
   "cell_type": "code",
   "execution_count": 3,
   "id": "93207ac9",
   "metadata": {},
   "outputs": [
    {
     "name": "stdout",
     "output_type": "stream",
     "text": [
      "         1001400  1001402  1001404  1001406  1001408  1001410  1001412  \\\n",
      "1001400      NaN      NaN      NaN      NaN      NaN      NaN      NaN   \n",
      "1001402      NaN      0.0     20.2      0.0      0.0      0.0      0.0   \n",
      "1001404      NaN     20.2      0.0     16.0      0.0      0.0      0.0   \n",
      "1001406      NaN      0.0     16.0      0.0     21.7      0.0      0.0   \n",
      "1001408      NaN      0.0      0.0     21.7      0.0     11.1      0.0   \n",
      "1001410      NaN      0.0      0.0      0.0     11.1      0.0     15.6   \n",
      "1001412      NaN      0.0      0.0      0.0      0.0     15.6      0.0   \n",
      "1001414      NaN      0.0      0.0      0.0      0.0      0.0     18.2   \n",
      "1001416      NaN      0.0      0.0      0.0      0.0      0.0      0.0   \n",
      "1001418      NaN      0.0      0.0      0.0      0.0      0.0      0.0   \n",
      "1001420      NaN      0.0      0.0      0.0      0.0      0.0      0.0   \n",
      "1001422      NaN      0.0      0.0      0.0      0.0      0.0      0.0   \n",
      "1001424      NaN      0.0      0.0      0.0      0.0      0.0      0.0   \n",
      "1001426      NaN      0.0      0.0      0.0      0.0      0.0      0.0   \n",
      "1001428      NaN      0.0      0.0      0.0      0.0      0.0      0.0   \n",
      "1001430      NaN      0.0      0.0      0.0      0.0      0.0      0.0   \n",
      "1001432      NaN      0.0      0.0      0.0      0.0      0.0      0.0   \n",
      "1001434      NaN      0.0      0.0      0.0      0.0      0.0      0.0   \n",
      "1001436      NaN      0.0      0.0      0.0      0.0      0.0      0.0   \n",
      "1001437      NaN      NaN      NaN      NaN      NaN      NaN      NaN   \n",
      "1001438      NaN      0.0      0.0      0.0      0.0      0.0      0.0   \n",
      "1001440      NaN      0.0      0.0      0.0      0.0      0.0      0.0   \n",
      "1001442      NaN      0.0      0.0      0.0      0.0      0.0      0.0   \n",
      "1001444      NaN      0.0      0.0      0.0      0.0      0.0      0.0   \n",
      "1001446      NaN      0.0      0.0      0.0      0.0      0.0      0.0   \n",
      "1001448      NaN      0.0      0.0      0.0      0.0      0.0      0.0   \n",
      "1001450      NaN      0.0      0.0      0.0      0.0      0.0      0.0   \n",
      "1001452      NaN      0.0      0.0      0.0      0.0      0.0      0.0   \n",
      "1001454      NaN      0.0      0.0      0.0      0.0      0.0      0.0   \n",
      "1001456      NaN      0.0      0.0      0.0      0.0      0.0      0.0   \n",
      "1001458      NaN      0.0      0.0      0.0      0.0      0.0      0.0   \n",
      "1001460      NaN      0.0      0.0      0.0      0.0      0.0      0.0   \n",
      "1001461      NaN      0.0      0.0      0.0      0.0      0.0      0.0   \n",
      "1001462      NaN      0.0      0.0      0.0      0.0      0.0      0.0   \n",
      "1001464      NaN      0.0      0.0      0.0      0.0      0.0      0.0   \n",
      "1001466      NaN      0.0      0.0      0.0      0.0      0.0      0.0   \n",
      "1001468      NaN      0.0      0.0      0.0      0.0      0.0      0.0   \n",
      "1001470      NaN      0.0      0.0      0.0      0.0      0.0      0.0   \n",
      "1001472      NaN      NaN      NaN      NaN      NaN      NaN      NaN   \n",
      "1001488      NaN      0.0      0.0      0.0      0.0      0.0      0.0   \n",
      "1004354      NaN      0.0      0.0      0.0      0.0      0.0      0.0   \n",
      "1004355      NaN      0.0      0.0      0.0      0.0      0.0      0.0   \n",
      "1004356      NaN      0.0      0.0      0.0      0.0      0.0      0.0   \n",
      "\n",
      "         1001414  1001416  1001418  ...  1001462  1001464  1001466  1001468  \\\n",
      "1001400      NaN      NaN      NaN  ...      NaN      NaN      NaN      NaN   \n",
      "1001402      0.0      0.0      0.0  ...      0.0      0.0      0.0      0.0   \n",
      "1001404      0.0      0.0      0.0  ...      0.0      0.0      0.0      0.0   \n",
      "1001406      0.0      0.0      0.0  ...      0.0      0.0      0.0      0.0   \n",
      "1001408      0.0      0.0      0.0  ...      0.0      0.0      0.0      0.0   \n",
      "1001410      0.0      0.0      0.0  ...      0.0      0.0      0.0      0.0   \n",
      "1001412     18.2      0.0      0.0  ...      0.0      0.0      0.0      0.0   \n",
      "1001414      0.0     13.2      0.0  ...      0.0      0.0      0.0      0.0   \n",
      "1001416     13.2      0.0     13.6  ...      0.0      0.0      0.0      0.0   \n",
      "1001418      0.0     13.6      0.0  ...      0.0      0.0      0.0      0.0   \n",
      "1001420      0.0      0.0     12.9  ...      0.0      0.0      0.0      0.0   \n",
      "1001422      0.0      0.0      0.0  ...      0.0      0.0      0.0      0.0   \n",
      "1001424      0.0      0.0      0.0  ...      0.0      0.0      0.0      0.0   \n",
      "1001426      0.0      0.0      0.0  ...      0.0      0.0      0.0      0.0   \n",
      "1001428      0.0      0.0      0.0  ...      0.0      0.0      0.0      0.0   \n",
      "1001430      0.0      0.0      0.0  ...      0.0      0.0      0.0      0.0   \n",
      "1001432      0.0      0.0      0.0  ...      0.0      0.0      0.0      0.0   \n",
      "1001434      0.0      0.0      0.0  ...      0.0      0.0      0.0      0.0   \n",
      "1001436      0.0      0.0      0.0  ...      0.0      0.0      0.0      0.0   \n",
      "1001437      NaN      NaN      NaN  ...      NaN      NaN      NaN      NaN   \n",
      "1001438      0.0      0.0      0.0  ...      0.0      0.0      0.0      0.0   \n",
      "1001440      0.0      0.0      0.0  ...      0.0      0.0      0.0      0.0   \n",
      "1001442      0.0      0.0      0.0  ...      0.0      0.0      0.0      0.0   \n",
      "1001444      0.0      0.0      0.0  ...      0.0      0.0      0.0      0.0   \n",
      "1001446      0.0      0.0      0.0  ...      0.0      0.0      0.0      0.0   \n",
      "1001448      0.0      0.0      0.0  ...      0.0      0.0      0.0      0.0   \n",
      "1001450      0.0      0.0      0.0  ...      0.0      0.0      0.0      0.0   \n",
      "1001452      0.0      0.0      0.0  ...      0.0      0.0      0.0      0.0   \n",
      "1001454      0.0      0.0      0.0  ...      0.0      0.0      0.0      0.0   \n",
      "1001456      0.0      0.0      0.0  ...      0.0      0.0      0.0      0.0   \n",
      "1001458      0.0      0.0      0.0  ...      0.0      0.0      0.0      0.0   \n",
      "1001460      0.0      0.0      0.0  ...     17.9      0.0      0.0      0.0   \n",
      "1001461      0.0      0.0      0.0  ...      5.1      0.0      0.0      0.0   \n",
      "1001462      0.0      0.0      0.0  ...      0.0     26.7      0.0      0.0   \n",
      "1001464      0.0      0.0      0.0  ...     26.7      0.0      8.5      0.0   \n",
      "1001466      0.0      0.0      0.0  ...      0.0      8.5      0.0     10.7   \n",
      "1001468      0.0      0.0      0.0  ...      0.0      0.0     10.7      0.0   \n",
      "1001470      0.0      0.0      0.0  ...      0.0      0.0      0.0     10.6   \n",
      "1001472      NaN      NaN      NaN  ...      NaN      NaN      NaN      NaN   \n",
      "1001488      0.0      0.0      0.0  ...      0.0      0.0      0.0      0.0   \n",
      "1004354      0.0      0.0      0.0  ...      0.0      0.0      0.0      0.0   \n",
      "1004355      0.0      0.0      0.0  ...      0.0      0.0      0.0      0.0   \n",
      "1004356      0.0      0.0      0.0  ...      0.0      0.0      0.0      0.0   \n",
      "\n",
      "         1001470  1001472  1001488  1004354  1004355  1004356  \n",
      "1001400      NaN      NaN      NaN      NaN      NaN      NaN  \n",
      "1001402      0.0      NaN      0.0      0.0      0.0      0.0  \n",
      "1001404      0.0      NaN      0.0      0.0      0.0      0.0  \n",
      "1001406      0.0      NaN      0.0      0.0      0.0      0.0  \n",
      "1001408      0.0      NaN      0.0      0.0      0.0      0.0  \n",
      "1001410      0.0      NaN      0.0      0.0      0.0      0.0  \n",
      "1001412      0.0      NaN      0.0      0.0      0.0      0.0  \n",
      "1001414      0.0      NaN      0.0      0.0      0.0      0.0  \n",
      "1001416      0.0      NaN      0.0      0.0      0.0      0.0  \n",
      "1001418      0.0      NaN      0.0      0.0      0.0      0.0  \n",
      "1001420      0.0      NaN      0.0      0.0      0.0      0.0  \n",
      "1001422      0.0      NaN      0.0      0.0      0.0      0.0  \n",
      "1001424      0.0      NaN      0.0      0.0      0.0      0.0  \n",
      "1001426      0.0      NaN      0.0      0.0      0.0      0.0  \n",
      "1001428      0.0      NaN      0.0      0.0      0.0      0.0  \n",
      "1001430      0.0      NaN      0.0      0.0      0.0      0.0  \n",
      "1001432      0.0      NaN      0.0      0.0      0.0      0.0  \n",
      "1001434      0.0      NaN      0.0      0.0      0.0      0.0  \n",
      "1001436      0.0      NaN      0.0      0.0      0.0      0.0  \n",
      "1001437      NaN      NaN      NaN      NaN      NaN      NaN  \n",
      "1001438      0.0      NaN      0.0      0.0      0.0      0.0  \n",
      "1001440      0.0      NaN      0.0      0.0      0.0      0.0  \n",
      "1001442      0.0      NaN      4.5      0.0      0.0      0.0  \n",
      "1001444      0.0      NaN      0.0      0.0      0.7      0.0  \n",
      "1001446      0.0      NaN      0.0      0.0      0.0      0.0  \n",
      "1001448      0.0      NaN      0.0      0.0      0.0      0.0  \n",
      "1001450      0.0      NaN      0.0      0.0      0.0      0.0  \n",
      "1001452      0.0      NaN      0.0      0.0      0.0      0.0  \n",
      "1001454      0.0      NaN      0.0      0.0      0.0      0.0  \n",
      "1001456      0.0      NaN      0.0      0.0      0.0      0.0  \n",
      "1001458      0.0      NaN      0.0      0.0      0.0      0.0  \n",
      "1001460      0.0      NaN      0.0      0.0      0.0      0.0  \n",
      "1001461      0.0      NaN      0.0      0.0      0.0      0.0  \n",
      "1001462      0.0      NaN      0.0      0.0      0.0      0.0  \n",
      "1001464      0.0      NaN      0.0      0.0      0.0      0.0  \n",
      "1001466      0.0      NaN      0.0      0.0      0.0      0.0  \n",
      "1001468     10.6      NaN      0.0      0.0      0.0      0.0  \n",
      "1001470      0.0      NaN      0.0      0.0      0.0      0.0  \n",
      "1001472      NaN      NaN      NaN      NaN      NaN      NaN  \n",
      "1001488      0.0      NaN      0.0      0.0      0.0      4.0  \n",
      "1004354      0.0      NaN      0.0      0.0      2.0      2.0  \n",
      "1004355      0.0      NaN      0.0      2.0      0.0      0.0  \n",
      "1004356      0.0      NaN      4.0      2.0      0.0      0.0  \n",
      "\n",
      "[43 rows x 43 columns]\n"
     ]
    }
   ],
   "source": [
    "result_distance_matrix = calculate_distance_matrix(df)\n",
    "print(result_distance_matrix)"
   ]
  },
  {
   "cell_type": "code",
   "execution_count": 4,
   "id": "373cda60",
   "metadata": {},
   "outputs": [],
   "source": [
    "# Question 2: Unroll Distance Matrix\n",
    "def unroll_distance_matrix(distance_matrix):\n",
    "    distance_matrix_reset = distance_matrix.reset_index()\n",
    "    unrolled_df = pd.melt(distance_matrix_reset, id_vars='index', var_name='id_end', value_name='distance')\n",
    "    unrolled_df = unrolled_df[unrolled_df['index'] != unrolled_df['id_end']]\n",
    "    unrolled_df = unrolled_df.rename(columns={'index': 'id_start'})\n",
    "    return unrolled_df"
   ]
  },
  {
   "cell_type": "code",
   "execution_count": 5,
   "id": "6567b8f1",
   "metadata": {},
   "outputs": [
    {
     "name": "stdout",
     "output_type": "stream",
     "text": [
      "   id_start   id_end  distance\n",
      "1   1001402  1001400       NaN\n",
      "2   1001404  1001400       NaN\n",
      "3   1001406  1001400       NaN\n",
      "4   1001408  1001400       NaN\n",
      "5   1001410  1001400       NaN\n"
     ]
    }
   ],
   "source": [
    "result_unrolled_df = unroll_distance_matrix(result_distance_matrix)\n",
    "print(result_unrolled_df.head())"
   ]
  },
  {
   "cell_type": "code",
   "execution_count": 6,
   "id": "fafa7f05",
   "metadata": {},
   "outputs": [],
   "source": [
    "# Question 3: Finding IDs within Percentage Threshold\n",
    "def find_ids_within_ten_percentage_threshold(df, reference_value):\n",
    "    reference_avg_distance = df[df['id_start'] == reference_value]['distance'].mean()\n",
    "    lower_threshold = reference_avg_distance - (reference_avg_distance * 0.10)\n",
    "    upper_threshold = reference_avg_distance + (reference_avg_distance * 0.10)\n",
    "    result_list = df[(df['distance'] >= lower_threshold) & (df['distance'] <= upper_threshold)]['id_start'].unique()\n",
    "    return sorted(result_list)"
   ]
  },
  {
   "cell_type": "code",
   "execution_count": 7,
   "id": "4775a7b9",
   "metadata": {},
   "outputs": [
    {
     "name": "stdout",
     "output_type": "stream",
     "text": [
      "[]\n"
     ]
    }
   ],
   "source": [
    "reference_value = 123\n",
    "result_list = find_ids_within_ten_percentage_threshold(result_unrolled_df, reference_value)\n",
    "print(result_list)"
   ]
  },
  {
   "cell_type": "code",
   "execution_count": 8,
   "id": "c414a457",
   "metadata": {},
   "outputs": [],
   "source": [
    "# Question 4: Calculate Toll Rate\n",
    "def calculate_toll_rate(df):\n",
    "    rate_coefficients = {'moto': 0.8, 'car': 1.2, 'rv': 1.5, 'bus': 2.2, 'truck': 3.6}\n",
    "    for vehicle in rate_coefficients:\n",
    "        df[vehicle] = df['distance'] * rate_coefficients[vehicle]\n",
    "    return df"
   ]
  },
  {
   "cell_type": "code",
   "execution_count": 9,
   "id": "9e3b7767",
   "metadata": {},
   "outputs": [
    {
     "name": "stdout",
     "output_type": "stream",
     "text": [
      "   id_start   id_end  distance  moto  car  rv  bus  truck\n",
      "1   1001402  1001400       NaN   NaN  NaN NaN  NaN    NaN\n",
      "2   1001404  1001400       NaN   NaN  NaN NaN  NaN    NaN\n",
      "3   1001406  1001400       NaN   NaN  NaN NaN  NaN    NaN\n",
      "4   1001408  1001400       NaN   NaN  NaN NaN  NaN    NaN\n",
      "5   1001410  1001400       NaN   NaN  NaN NaN  NaN    NaN\n"
     ]
    }
   ],
   "source": [
    "result_with_toll_rate = calculate_toll_rate(result_unrolled_df)\n",
    "print(result_with_toll_rate.head())"
   ]
  },
  {
   "cell_type": "code",
   "execution_count": 10,
   "id": "6b68a733",
   "metadata": {},
   "outputs": [],
   "source": [
    "# Question 5: Calculate Time-Based Toll Rates\n",
    "def calculate_time_based_toll_rates(df):\n",
    "    # Convert index to datetime\n",
    "    df.index = pd.to_datetime(df.index)\n",
    "    df['start_day'] = df['end_day'] = df['start_time'] = df['end_time'] = ''\n",
    "    \n",
    "    # Weekdays (Monday - Friday)\n",
    "    df.loc[(df.index.weekday >= 0) & (df.index.weekday < 5), 'start_day'] = 'Monday'\n",
    "    df.loc[(df.index.weekday >= 0) & (df.index.weekday < 5), 'end_day'] = 'Sunday'\n",
    "    df.loc[(df.index.weekday >= 0) & (df.index.weekday < 5), 'start_time'] = pd.to_datetime('00:00:00').time()\n",
    "    df.loc[(df.index.weekday >= 0) & (df.index.weekday < 5), 'end_time'] = pd.to_datetime('23:59:59').time()\n",
    "\n",
    "    # Weekends (Saturday and Sunday)\n",
    "    df.loc[(df.index.weekday >= 5), 'start_day'] = 'Saturday'\n",
    "    df.loc[(df.index.weekday >= 5), 'end_day'] = 'Sunday'\n",
    "    df.loc[(df.index.weekday >= 5), 'start_time'] = pd.to_datetime('00:00:00').time()\n",
    "    df.loc[(df.index.weekday >= 5), 'end_time'] = pd.to_datetime('23:59:59').time()\n",
    "\n",
    "    # Modify values of vehicle columns according to time ranges\n",
    "    df.loc[(df.index.hour >= 0) & (df.index.hour < 10), ['moto', 'car', 'rv', 'bus', 'truck']] *= 0.8\n",
    "    df.loc[(df.index.hour >= 10) & (df.index.hour < 18), ['moto', 'car', 'rv', 'bus', 'truck']] *= 1.2\n",
    "    df.loc[(df.index.hour >= 18) & (df.index.hour <= 23), ['moto', 'car', 'rv', 'bus', 'truck']] *= 0.8\n",
    "    df.loc[df.index.weekday >= 5, ['moto', 'car', 'rv', 'bus', 'truck']] *= 0.7\n",
    "\n",
    "    return df"
   ]
  },
  {
   "cell_type": "code",
   "execution_count": 11,
   "id": "f29f5bc1",
   "metadata": {},
   "outputs": [
    {
     "name": "stdout",
     "output_type": "stream",
     "text": [
      "                               id_start   id_end  distance  moto  car  rv  \\\n",
      "1970-01-01 00:00:00.000000001   1001402  1001400       NaN   NaN  NaN NaN   \n",
      "1970-01-01 00:00:00.000000002   1001404  1001400       NaN   NaN  NaN NaN   \n",
      "1970-01-01 00:00:00.000000003   1001406  1001400       NaN   NaN  NaN NaN   \n",
      "1970-01-01 00:00:00.000000004   1001408  1001400       NaN   NaN  NaN NaN   \n",
      "1970-01-01 00:00:00.000000005   1001410  1001400       NaN   NaN  NaN NaN   \n",
      "\n",
      "                               bus  truck start_day end_day start_time  \\\n",
      "1970-01-01 00:00:00.000000001  NaN    NaN    Monday  Sunday   00:00:00   \n",
      "1970-01-01 00:00:00.000000002  NaN    NaN    Monday  Sunday   00:00:00   \n",
      "1970-01-01 00:00:00.000000003  NaN    NaN    Monday  Sunday   00:00:00   \n",
      "1970-01-01 00:00:00.000000004  NaN    NaN    Monday  Sunday   00:00:00   \n",
      "1970-01-01 00:00:00.000000005  NaN    NaN    Monday  Sunday   00:00:00   \n",
      "\n",
      "                               end_time  \n",
      "1970-01-01 00:00:00.000000001  23:59:59  \n",
      "1970-01-01 00:00:00.000000002  23:59:59  \n",
      "1970-01-01 00:00:00.000000003  23:59:59  \n",
      "1970-01-01 00:00:00.000000004  23:59:59  \n",
      "1970-01-01 00:00:00.000000005  23:59:59  \n"
     ]
    }
   ],
   "source": [
    "result_with_time_based_toll_rates = calculate_time_based_toll_rates(result_with_toll_rate)\n",
    "print(result_with_time_based_toll_rates.head())"
   ]
  },
  {
   "cell_type": "code",
   "execution_count": null,
   "id": "52c772a7",
   "metadata": {},
   "outputs": [],
   "source": []
  }
 ],
 "metadata": {
  "kernelspec": {
   "display_name": "Python 3 (ipykernel)",
   "language": "python",
   "name": "python3"
  },
  "language_info": {
   "codemirror_mode": {
    "name": "ipython",
    "version": 3
   },
   "file_extension": ".py",
   "mimetype": "text/x-python",
   "name": "python",
   "nbconvert_exporter": "python",
   "pygments_lexer": "ipython3",
   "version": "3.11.4"
  }
 },
 "nbformat": 4,
 "nbformat_minor": 5
}
